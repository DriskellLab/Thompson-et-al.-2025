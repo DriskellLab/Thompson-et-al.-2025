{
 "cells": [
  {
   "cell_type": "code",
   "execution_count": null,
   "id": "6f34b50e-4e11-45fb-97b1-631808fe8974",
   "metadata": {},
   "outputs": [],
   "source": [
    "#load packages\n",
    "import stereo as st\n",
    "import pandas as pd\n",
    "import numpy as np\n",
    "import scanpy as sc\n",
    "import anndata as an\n",
    "import matplotlib.pyplot as plt\n",
    "from matplotlib import colormaps as cmaps\n",
    "plt.figure(dpi=300)\n",
    "import warnings\n",
    "warnings.filterwarnings('ignore')\n",
    "from tqdm.notebook import tqdm\n",
    "\n",
    "import os as os\n",
    "#verify proper environment is being used on this server\n",
    "import sys\n",
    "print(sys.version)#should be python 3.8\n",
    "import sys\n",
    "print(sys.executable)#should be stereopy_env in miniconda parent directory"
   ]
  },
  {
   "cell_type": "code",
   "execution_count": null,
   "id": "70b2a766-5c58-416a-b40f-39cc0271bd65",
   "metadata": {},
   "outputs": [],
   "source": [
    "#load unfiltered stereo-seq data\n",
    "data = st.io.read_h5ad(file_path='/home/ryan/Sean/Object/StereoSeq/Pig6mo_bin20.stereo.h5ad', flavor='stereopy')\n",
    "data#view stereopy object prepared from stereoseq\n",
    "#adata = st.io.read_h5ad(file_path='/home/ryan/Sean/Object/StereoSeq/Pig6mo_bin20.stereo.forScanpy.h5ad', flavor='scanpy')\n",
    "#adata#view adata object prepared for scanpy from stereoseq"
   ]
  },
  {
   "cell_type": "code",
   "execution_count": null,
   "id": "207802e1-b941-4a4b-8987-7077d1e84497",
   "metadata": {},
   "outputs": [],
   "source": [
    "#visualize QC in aggregate\n",
    "data.plt.violin()\n",
    "plt.savefig(fname='/home/ryan/Sean/Pig6mo/crop/1_QC_Violin.png', dpi=300)\n",
    "data.plt.genes_count()\n",
    "plt.savefig(fname='/home/ryan/Sean/Pig6mo/crop/2_QC_Scatter.png', dpi=300)"
   ]
  },
  {
   "cell_type": "code",
   "execution_count": null,
   "id": "fcdecfc9-8bfc-49e1-93bb-0cc490119038",
   "metadata": {},
   "outputs": [],
   "source": [
    "#Visualize QC on the spatial tissue map\n",
    "data.plt.spatial_scatter(out_dpi=500)\n",
    "plt.savefig(fname='/home/ryan/Sean/Pig6mo/crop/3_QC_SpatialScatter.png', dpi=300)\n",
    "data.plt.spatial_scatter(base_image='/home/ryan/Sean/IMG/Pig6mo_crop/B03701G4_ssDNA_regist.tif', base_im_to_gray=True, out_dpi=500)\n",
    "plt.savefig(fname='/home/ryan/Sean/Pig6mo/crop/3_QC_SpatialScatter_wMask.png', dpi=500)"
   ]
  },
  {
   "cell_type": "code",
   "execution_count": null,
   "id": "d8ba2ce2-258b-4b75-8afa-6bd1e59ae1de",
   "metadata": {},
   "outputs": [],
   "source": [
    "#do QC filtration\n",
    "data\n",
    "#min_n_genes_by_counts: minimum number of total counts required for a cell to pass fitlering\n",
    "#min_gene: minimum number of genes expressed required for a cell to pass filtering\n",
    "data.tl.filter_cells(\n",
    "        min_n_genes_by_counts=25,\n",
    "        min_gene=5,\n",
    "        pct_counts_mt=10,\n",
    "        inplace=True\n",
    "        )#in ~stereopy/stereo/core/st_pipeline.py:162, filter_cells is defined with parameters 'min_gene'/'max_gene'/'min_n_genes_by_counts' not 'min_genes'/'max_genes'/'min_counts' like in stereopy vignette\n",
    "data\n",
    "\n",
    "#Visualize QC on the spatial tissue map\n",
    "data.plt.spatial_scatter(out_dpi=400)\n",
    "plt.savefig(fname='/home/ryan/Sean/Pig6mo/crop/4_QC_Filtered_SpatialScatter.png', dpi=400)\n",
    "data.plt.spatial_scatter(base_image='/home/ryan/Sean/IMG/Pig6mo_crop/B03701G4_ssDNA_regist.tif', base_im_to_gray=True, out_dpi=400)\n",
    "plt.savefig(fname='/home/ryan/Sean/Pig6mo/crop/4_QC_Filtered_SpatialScatter_wMask.png', dpi=400)"
   ]
  },
  {
   "cell_type": "code",
   "execution_count": null,
   "id": "bd0a1d7a-5281-402e-9a3c-03661b40f8e9",
   "metadata": {},
   "outputs": [],
   "source": [
    "data.tl.raw_checkpoint()#save the stereopy data object before normalizing\n",
    "data.tl.raw\n",
    "#data.tl.reset_raw_data()#restore data object to the saved raw data object"
   ]
  },
  {
   "cell_type": "code",
   "execution_count": null,
   "id": "e4273995-9e23-474a-80e3-fa51928698c1",
   "metadata": {},
   "outputs": [],
   "source": [
    "#use scTransform to normalize data and identify variable genes\n",
    "data.tl.sctransform(res_key='sctransform', inplace=True, filter_hvgs=False, n_cells=10000, n_genes=500)\n",
    "#https://stereopy.readthedocs.io/en/latest/Tutorials/scTransform.html"
   ]
  },
  {
   "cell_type": "code",
   "execution_count": null,
   "id": "dac9dfcd-1176-40bc-8f34-66350ea2a403",
   "metadata": {},
   "outputs": [],
   "source": [
    "# run PCA and identify number of PCs to use for clustering\n",
    "data.tl.pca(use_highly_genes=False, hvg_res_key='highly_variable_genes', n_pcs=30, res_key='pca', svd_solver='arpack')\n",
    "data.plt.elbow(pca_res_key='pca')\n",
    "plt.savefig(fname='/home/ryan/Sean/Pig6mo/crop/5_PC_ElbowPlot.png', dpi=300)"
   ]
  },
  {
   "cell_type": "code",
   "execution_count": null,
   "id": "e8bdfc20-2ab1-4245-8929-6bb7798dfa63",
   "metadata": {},
   "outputs": [],
   "source": [
    "data.tl.neighbors(pca_res_key='pca', n_pcs=15, res_key='neighbors', n_jobs=6)\n",
    "data.tl.umap(pca_res_key='pca', neighbors_res_key='neighbors', res_key='umap', init_pos='spectral', spread=2.0)"
   ]
  },
  {
   "cell_type": "code",
   "execution_count": null,
   "id": "62717219-4f74-402d-ab63-bc597b486647",
   "metadata": {},
   "outputs": [],
   "source": [
    "#visualize expression of marker genes across the UMAP\n",
    "data.plt.umap(gene_names=['KRT14', 'KRT10'], res_key='umap', out_dpi=400)\n",
    "plt.savefig(fname='/home/ryan/Sean/Pig6mo/crop/6_KRT14_KRT10_UMAP.png', dpi=400)\n",
    "\n",
    "data.plt.umap(gene_names=['COL1A1','COL3A1'], res_key='umap', out_dpi=400)\n",
    "plt.savefig(fname='/home/ryan/Sean/Pig6mo/crop/6_COL1A1_COL3A1_UMAP.png', dpi=400)"
   ]
  },
  {
   "cell_type": "code",
   "execution_count": null,
   "id": "a0563cfe-eb8f-484d-8597-5c04c7b6a937",
   "metadata": {},
   "outputs": [],
   "source": [
    "#Leiden clustering\n",
    "data.tl.leiden(neighbors_res_key='neighbors',res_key='leiden', resolution=1)#resolution=1 is default"
   ]
  },
  {
   "cell_type": "code",
   "execution_count": null,
   "id": "58b946b1-edce-4fe4-a1a5-80e4ee2c1e4b",
   "metadata": {},
   "outputs": [],
   "source": [
    "#view Leiden clustering onto the mask of the tissue section\n",
    "data.plt.cluster_scatter(res_key='leiden')\n",
    "plt.savefig(fname='/home/ryan/Sean/Pig6mo/crop/7_Spatial_Clustering.png', dpi=500)\n",
    "data.plt.cluster_scatter(res_key='leiden', base_image='/home/ryan/Sean/IMG/Pig6mo_crop/B03701G4_ssDNA_regist.tif', foreground_alpha=1)\n",
    "plt.savefig(fname='/home/ryan/Sean/Pig6mo/crop/7_Spatial_Clustering_wMask.png', dpi=500)"
   ]
  },
  {
   "cell_type": "code",
   "execution_count": null,
   "id": "754e70d0-670f-4beb-9e58-06b826f1c3c5",
   "metadata": {},
   "outputs": [],
   "source": [
    "#view spatial clustering subs across the tissue mask\n",
    "data.plt.cluster_scatter(res_key='leiden', base_image='/home/ryan/Sean/IMG/Pig6mo_crop/B03701G4_ssDNA_regist.tif', \n",
    "                         others_color='#FFFFFF', foreground_alpha=1,\n",
    "                         groups=['6', '7'])#view key clusters\n",
    "plt.savefig(fname='/home/ryan/Sean/Pig6mo/crop/8_Spatial_Clustering_Epi_wMask.png', dpi=500)\n",
    "\n"
   ]
  },
  {
   "cell_type": "code",
   "execution_count": null,
   "id": "a40eac0e-ee7b-497a-8603-3e73e22d89fe",
   "metadata": {},
   "outputs": [],
   "source": [
    "data.plt.umap(res_key='umap', cluster_key='leiden')\n",
    "plt.savefig(fname='/home/ryan/Sean/Pig6mo/crop/9_Leiden_UMAP.png', dpi=400)"
   ]
  },
  {
   "cell_type": "code",
   "execution_count": null,
   "id": "7dc67955-4159-4d6d-ac98-50fdd73e1203",
   "metadata": {
    "scrolled": true
   },
   "outputs": [],
   "source": [
    "#view spatial gene expression across the tissue mask\n",
    "data.plt.spatial_scatter_by_gene(gene_name='KRT14', palette='linear_grey_10_95_c0',out_dpi=500, height=1000, width=450)\n",
    "plt.savefig(fname='/home/ryan/Sean/Pig6mo/crop/KRT14_Spatial_Expression(grey).png', dpi=500)\n",
    "data.plt.spatial_scatter_by_gene(gene_name='KRT15', palette='linear_grey_10_95_c0',out_dpi=500, height=1000, width=450)\n",
    "plt.savefig(fname='/home/ryan/Sean/Pig6mo/crop/KRT15_Spatial_Expression(grey).png', dpi=500)\n",
    "data.plt.spatial_scatter_by_gene(gene_name='KRT10', palette='linear_grey_10_95_c0',out_dpi=500, height=1000, width=450)\n",
    "plt.savefig(fname='/home/ryan/Sean/Pig6mo/crop/KRT10_Spatial_Expression(grey).png', dpi=500)\n",
    "data.plt.spatial_scatter_by_gene(gene_name='COL1A1', palette='linear_grey_10_95_c0',out_dpi=500, height=1000, width=450)\n",
    "plt.savefig(fname='/home/ryan/Sean/Pig6mo/crop/COL1A1_Spatial_Expression(grey).png', dpi=500)\n",
    "data.plt.spatial_scatter_by_gene(gene_name='COL3A1', palette='linear_grey_10_95_c0',out_dpi=500, height=1000, width=450)\n",
    "plt.savefig(fname='/home/ryan/Sean/Pig6mo/crop/COL3A1_Spatial_Expression(grey).png', dpi=500)\n",
    "data.plt.spatial_scatter_by_gene(gene_name='PDGFRA', palette='linear_grey_10_95_c0',out_dpi=500, height=1000, width=450)\n",
    "plt.savefig(fname='/home/ryan/Sean/Pig6mo/crop/PDGFRA_Spatial_Expression(grey).png', dpi=500)\n",
    "data.plt.spatial_scatter_by_gene(gene_name='PIEZO2', palette='linear_grey_10_95_c0',out_dpi=500, height=1000, width=450)\n",
    "plt.savefig(fname='/home/ryan/Sean/Pig6mo/crop/PIEZO2_Spatial_Expression(grey).png', dpi=500)\n",
    "data.plt.spatial_scatter_by_gene(gene_name='MFAP5', palette='linear_grey_10_95_c0',out_dpi=500, height=1000, width=450)\n",
    "plt.savefig(fname='/home/ryan/Sean/Pig6mo/crop/MFAP5_Spatial_Expression(grey).png', dpi=500)\n",
    "data.plt.spatial_scatter_by_gene(gene_name='VIM', palette='linear_grey_10_95_c0',out_dpi=500, height=1000, width=450)\n",
    "plt.savefig(fname='/home/ryan/Sean/Pig6mo/crop/VIM_Spatial_Expression(grey).png', dpi=500)\n",
    "data.plt.spatial_scatter_by_gene(gene_name='SOX9', palette='linear_grey_10_95_c0',out_dpi=500, height=1000, width=450)\n",
    "plt.savefig(fname='/home/ryan/Sean/Pig6mo/crop/SOX9_Spatial_Expression(grey).png', dpi=500)\n",
    "data.plt.spatial_scatter_by_gene(gene_name='VEGFA', palette='linear_grey_10_95_c0',out_dpi=500, height=1000, width=450)\n",
    "plt.savefig(fname='/home/ryan/Sean/Pig6mo/crop/VEGFA_Spatial_Expression(grey).png', dpi=500)\n",
    "data.plt.spatial_scatter_by_gene(gene_name='PDGFC', palette='linear_grey_10_95_c0',out_dpi=500, height=1000, width=450)\n",
    "plt.savefig(fname='/home/ryan/Sean/Pig6mo/crop/PDGFC_Spatial_Expression(grey).png', dpi=500)\n",
    "data.plt.spatial_scatter_by_gene(gene_name='PECAM1', palette='linear_grey_10_95_c0',out_dpi=500, height=1000, width=450)\n",
    "plt.savefig(fname='/home/ryan/Sean/Pig6mo/crop/PECAM1_Spatial_Expression(grey).png', dpi=500)\n",
    "data.plt.spatial_scatter_by_gene(gene_name='CDH5', palette='linear_grey_10_95_c0',out_dpi=500, height=1000, width=450)\n",
    "plt.savefig(fname='/home/ryan/Sean/Pig6mo/crop/CDH5_Spatial_Expression(grey).png', dpi=500)\n",
    "data.plt.spatial_scatter_by_gene(gene_name='ACTA2', palette='linear_grey_10_95_c0',out_dpi=500, height=1000, width=450)\n",
    "plt.savefig(fname='/home/ryan/Sean/Pig6mo/crop/ACTA2_Spatial_Expression(grey).png', dpi=500)\n",
    "data.plt.spatial_scatter_by_gene(gene_name='RGS5', palette='linear_grey_10_95_c0',out_dpi=500, height=1000, width=450)\n",
    "plt.savefig(fname='/home/ryan/Sean/Pig6mo/crop/RGS5_Spatial_Expression(grey).png', dpi=500)\n",
    "\n",
    "#view spatial gene expression across the tissue mask\n",
    "data.plt.spatial_scatter_by_gene(gene_name='KRT14', palette='CET_L4', color_bar_reverse=False, out_dpi=500, height=1000, width=450)\n",
    "plt.savefig(fname='/home/ryan/Sean/Pig6mo/crop/KRT14_Spatial_Expression(CET_L4).png', dpi=500)\n",
    "data.plt.spatial_scatter_by_gene(gene_name='KRT15', palette='CET_L4', color_bar_reverse=False, out_dpi=500, height=1000, width=450)\n",
    "plt.savefig(fname='/home/ryan/Sean/Pig6mo/crop/KRT15_Spatial_Expression(CET_L4).png', dpi=500)\n",
    "data.plt.spatial_scatter_by_gene(gene_name='KRT10', palette='CET_L4', color_bar_reverse=False, out_dpi=500, height=1000, width=450)\n",
    "plt.savefig(fname='/home/ryan/Sean/Pig6mo/crop/KRT10_Spatial_Expression(CET_L4).png', dpi=500)\n",
    "data.plt.spatial_scatter_by_gene(gene_name='COL1A1', palette='CET_L4', color_bar_reverse=False, out_dpi=500, height=1000, width=450)\n",
    "plt.savefig(fname='/home/ryan/Sean/Pig6mo/crop/COL1A1_Spatial_Expression(CET_L4).png', dpi=500)\n",
    "data.plt.spatial_scatter_by_gene(gene_name='COL3A1', palette='CET_L4', color_bar_reverse=False, out_dpi=500, height=1000, width=450)\n",
    "plt.savefig(fname='/home/ryan/Sean/Pig6mo/crop/COL3A1_Spatial_Expression(CET_L4).png', dpi=500)\n",
    "data.plt.spatial_scatter_by_gene(gene_name='PDGFRA', palette='CET_L4', color_bar_reverse=False, out_dpi=500, height=1000, width=450)\n",
    "plt.savefig(fname='/home/ryan/Sean/Pig6mo/crop/PDGFRA_Spatial_Expression(CET_L4).png', dpi=500)\n",
    "data.plt.spatial_scatter_by_gene(gene_name='PIEZO2', palette='CET_L4', color_bar_reverse=False, out_dpi=500, height=1000, width=450)\n",
    "plt.savefig(fname='/home/ryan/Sean/Pig6mo/crop/PIEZO2_Spatial_Expression(CET_L4).png', dpi=500)\n",
    "data.plt.spatial_scatter_by_gene(gene_name='MFAP5', palette='CET_L4', color_bar_reverse=False, out_dpi=500, height=1000, width=450)\n",
    "plt.savefig(fname='/home/ryan/Sean/Pig6mo/crop/MFAP5_Spatial_Expression(CET_L4).png', dpi=500)\n",
    "data.plt.spatial_scatter_by_gene(gene_name='VIM', palette='CET_L4', color_bar_reverse=False, out_dpi=500, height=1000, width=450)\n",
    "plt.savefig(fname='/home/ryan/Sean/Pig6mo/crop/VIM_Spatial_Expression(CET_L4).png', dpi=500)\n",
    "data.plt.spatial_scatter_by_gene(gene_name='SOX9', palette='CET_L4', color_bar_reverse=False, out_dpi=500, height=1000, width=450)\n",
    "plt.savefig(fname='/home/ryan/Sean/Pig6mo/crop/SOX9_Spatial_Expression(CET_L4).png', dpi=500)\n",
    "data.plt.spatial_scatter_by_gene(gene_name='VEGFA', palette='CET_L4', color_bar_reverse=False, out_dpi=500, height=1000, width=450)\n",
    "plt.savefig(fname='/home/ryan/Sean/Pig6mo/crop/VEGFA_Spatial_Expression(CET_L4).png', dpi=500)\n",
    "data.plt.spatial_scatter_by_gene(gene_name='PDGFC', palette='CET_L4', color_bar_reverse=False, out_dpi=500, height=1000, width=450)\n",
    "plt.savefig(fname='/home/ryan/Sean/Pig6mo/crop/PDGFC_Spatial_Expression(CET_L4).png', dpi=500)\n",
    "data.plt.spatial_scatter_by_gene(gene_name='PECAM1', palette='CET_L4', color_bar_reverse=False, out_dpi=500, height=1000, width=450)\n",
    "plt.savefig(fname='/home/ryan/Sean/Pig6mo/crop/PECAM1_Spatial_Expression(CET_L4).png', dpi=500)\n",
    "data.plt.spatial_scatter_by_gene(gene_name='CDH5', palette='CET_L4', color_bar_reverse=False, out_dpi=500, height=1000, width=450)\n",
    "plt.savefig(fname='/home/ryan/Sean/Pig6mo/crop/CDH5_Spatial_Expression(CET_L4).png', dpi=500)\n",
    "data.plt.spatial_scatter_by_gene(gene_name='ACTA2', palette='CET_L4', color_bar_reverse=False, out_dpi=500, height=1000, width=450)\n",
    "plt.savefig(fname='/home/ryan/Sean/Pig6mo/crop/ACTA2_Spatial_Expression(CET_L4).png', dpi=500)\n",
    "data.plt.spatial_scatter_by_gene(gene_name='RGS5', palette='CET_L4', color_bar_reverse=False, out_dpi=500, height=1000, width=450)\n",
    "plt.savefig(fname='/home/ryan/Sean/Pig6mo/crop/RGS5_Spatial_Expression(CET_L4).png', dpi=500)"
   ]
  },
  {
   "cell_type": "code",
   "execution_count": null,
   "id": "0b9ab9b9-475e-4c16-b448-55092dd78d11",
   "metadata": {
    "scrolled": true
   },
   "outputs": [],
   "source": [
    "#Leiden clustering optimization\n",
    "#0.4 (1.0 default)\n",
    "data.tl.leiden(neighbors_res_key='neighbors',res_key='leiden', resolution=0.4)#resolution=1 is default\n",
    "#view Leiden clustering onto the mask of the tissue section\n",
    "data.plt.cluster_scatter(res_key='leiden')\n",
    "plt.savefig(fname='/home/ryan/Sean/Pig6mo/crop/12_Spatial_Clustering_res0.4.png', dpi=400)\n",
    "data.plt.cluster_scatter(res_key='leiden', base_image='/home/ryan/Sean/IMG/Pig6mo_crop/B03701G4_ssDNA_regist.tif', foreground_alpha=1)\n",
    "plt.savefig(fname='/home/ryan/Sean/Pig6mo/crop/12_Spatial_Clustering_wMask_res0.4.png', dpi=500)\n",
    "data.plt.umap(res_key='umap', cluster_key='leiden')\n",
    "plt.savefig(fname='/home/ryan/Sean/Pig6mo/crop/12_Leiden_UMAP_res0.4.png', dpi=400)\n",
    "\n",
    "#0.6 (1.0 default)\n",
    "data.tl.leiden(neighbors_res_key='neighbors',res_key='leiden', resolution=0.6)#resolution=1 is default\n",
    "#view Leiden clustering onto the mask of the tissue section\n",
    "data.plt.cluster_scatter(res_key='leiden')\n",
    "plt.savefig(fname='/home/ryan/Sean/Pig6mo/crop/11_Spatial_Clustering_res0.6.png', dpi=400)\n",
    "data.plt.cluster_scatter(res_key='leiden', base_image='/home/ryan/Sean/IMG/Pig6mo_crop/B03701G4_ssDNA_regist.tif', foreground_alpha=1)\n",
    "plt.savefig(fname='/home/ryan/Sean/Pig6mo/crop/11_Spatial_Clustering_wMask_res0.6.png', dpi=500)\n",
    "data.plt.umap(res_key='umap', cluster_key='leiden')\n",
    "plt.savefig(fname='/home/ryan/Sean/Pig6mo/crop/11_Leiden_UMAP_res0.8.png', dpi=400)\n",
    "\n",
    "#0.8 (1.0 default)\n",
    "data.tl.leiden(neighbors_res_key='neighbors',res_key='leiden', resolution=0.8)#resolution=1 is default\n",
    "#view Leiden clustering onto the mask of the tissue section\n",
    "data.plt.cluster_scatter(res_key='leiden')\n",
    "plt.savefig(fname='/home/ryan/Sean/Pig6mo/crop/10_Spatial_Clustering_res0.8.png', dpi=400)\n",
    "data.plt.cluster_scatter(res_key='leiden', base_image='/home/ryan/Sean/IMG/Pig6mo_crop/B03701G4_ssDNA_regist.tif', foreground_alpha=1)\n",
    "plt.savefig(fname='/home/ryan/Sean/Pig6mo/crop/10_Spatial_Clustering_wMask_res0.8.png', dpi=500)\n",
    "data.plt.umap(res_key='umap', cluster_key='leiden')\n",
    "plt.savefig(fname='/home/ryan/Sean/Pig6mo/crop/10_Leiden_UMAP_res0.8.png', dpi=400)\n",
    "\n",
    "#1.0 (1.0 default)\n",
    "data.tl.leiden(neighbors_res_key='neighbors',res_key='leiden', resolution=1.0)#resolution=1 is default\n",
    "#view Leiden clustering onto the mask of the tissue section\n",
    "data.plt.cluster_scatter(res_key='leiden')\n",
    "plt.savefig(fname='/home/ryan/Sean/Pig6mo/crop/10_Spatial_Clustering_res1.0.png', dpi=400)\n",
    "data.plt.cluster_scatter(res_key='leiden', base_image='/home/ryan/Sean/IMG/Pig6mo_crop/B03701G4_ssDNA_regist.tif', foreground_alpha=1)\n",
    "plt.savefig(fname='/home/ryan/Sean/Pig6mo/crop/10_Spatial_Clustering_wMask_res1.0.png', dpi=500)\n",
    "data.plt.umap(res_key='umap', cluster_key='leiden')\n",
    "plt.savefig(fname='/home/ryan/Sean/Pig6mo/crop/10_Leiden_UMAP_res1.0.png', dpi=400)\n",
    "\n",
    "#1.2 (1. default)\n",
    "data.tl.leiden(neighbors_res_key='neighbors',res_key='leiden', resolution=1.2)#resolution=1 is default\n",
    "#view Leiden clustering onto the mask of the tissue section\n",
    "data.plt.cluster_scatter(res_key='leiden')\n",
    "plt.savefig(fname='/home/ryan/Sean/Pig6mo/crop/13_Spatial_Clustering_res1.2.png', dpi=400)\n",
    "data.plt.cluster_scatter(res_key='leiden', base_image='/home/ryan/Sean/IMG/Pig6mo_crop/B03701G4_ssDNA_regist.tif', foreground_alpha=1)\n",
    "plt.savefig(fname='/home/ryan/Sean/Pig6mo/crop/13_Spatial_Clustering_wMask_res1.2.png', dpi=500)\n",
    "data.plt.umap(res_key='umap', cluster_key='leiden')\n",
    "plt.savefig(fname='/home/ryan/Sean/Pig6mo/crop/13_Leiden_UMAP_res1.2.png', dpi=400)\n",
    "\n",
    "#1.4 (1.0 default)\n",
    "data.tl.leiden(neighbors_res_key='neighbors',res_key='leiden', resolution=1.4)#resolution=1 is default\n",
    "#view Leiden clustering onto the mask of the tissue section\n",
    "data.plt.cluster_scatter(res_key='leiden')\n",
    "plt.savefig(fname='/home/ryan/Sean/Pig6mo/crop/14_Spatial_Clustering_res1.4.png', dpi=400)\n",
    "data.plt.cluster_scatter(res_key='leiden', base_image='/home/ryan/Sean/IMG/Pig6mo_crop/B03701G4_ssDNA_regist.tif', foreground_alpha=1)\n",
    "plt.savefig(fname='/home/ryan/Sean/Pig6mo/crop/14_Spatial_Clustering_wMask_res1.4.png', dpi=500)\n",
    "data.plt.umap(res_key='umap', cluster_key='leiden')\n",
    "plt.savefig(fname='/home/ryan/Sean/Pig6mo/crop/14_Leiden_UMAP_res1.4.png', dpi=400)\n"
   ]
  },
  {
   "cell_type": "code",
   "execution_count": null,
   "id": "c5d12013-ce2e-41e0-9d9a-56248c075038",
   "metadata": {
    "scrolled": true
   },
   "outputs": [],
   "source": [
    "#Leiden clustering (finalized)\n",
    "data.tl.leiden(neighbors_res_key='neighbors',res_key='leiden', resolution=1.0)#resolution=1 is default\n",
    "\n",
    "#view Leiden clustering onto the mask of the tissue section\n",
    "data.plt.cluster_scatter(res_key='leiden')\n",
    "plt.savefig(fname='/home/ryan/Sean/Pig6mo/crop/15_Spatial_Clustering.png', dpi=500)\n",
    "\n",
    "#view spatial gene expression across the tissue mask\n",
    "data.plt.cluster_scatter(res_key='leiden', base_image='/home/ryan/Sean/IMG/Pig6mo_crop/B03701G4_ssDNA_regist.tif', \n",
    "                         others_color='#FFFFFF', foreground_alpha=1)#ignore off-tissue cluster (set to white by excluding from in-groups list)\n",
    "plt.savefig(fname='/home/ryan/Sean/Pig6mo/crop/15_Spatial_Clustering_wMask.png', dpi=500)\n",
    "\n",
    "data.plt.cluster_scatter(res_key='leiden', groups=['1', '2', '3', '4', '5', '6', '7', '8', '9', '10',\n",
    "                                                  '12', '13', '14', '15', '16', '17', \n",
    "                                                   '18', '19', '20', '21', '22', '23', '24', '25', '26', '27'], \n",
    "                         others_color='#FFFFFF', foreground_alpha=1,\n",
    "                        color_bar_reverse=False)#exclude cluster 11 (not tissue)\n",
    "plt.savefig(fname='/home/ryan/Sean/Pig6mo/crop/15_Spatial_Clustering_sub.png', dpi=500)\n",
    "\n",
    "#view spatial gene expression across the tissue mask\n",
    "data.plt.cluster_scatter(res_key='leiden', base_image='/home/ryan/Sean/IMG/Pig6mo_crop/B03701G4_ssDNA_regist.tif', \n",
    "                         others_color='#FFFFFF', foreground_alpha=1,\n",
    "                         groups=['1', '2', '3', '4', '5', '6', '7', '8', '9', '10',\n",
    "                                                  '12', '13', '14', '15', '16', '17', \n",
    "                                                   '18', '19', '20', '21', '22', '23'])#ignore off-tissue cluster (set to white by excluding from in-groups list)\n",
    "plt.savefig(fname='/home/ryan/Sean/Pig6mo/crop/15_Spatial_Clustering_sub_wMask.png', dpi=500)\n",
    "\n",
    "#view spatial gene expression across the tissue mask\n",
    "data.plt.cluster_scatter(res_key='leiden', base_image='/home/ryan/Sean/IMG/Pig6mo_crop/B03701G4_ssDNA_regist.tif', \n",
    "                         others_color='#FFFFFF', foreground_alpha=1,\n",
    "                         groups=['2', '7'])#ignore off-tissue cluster (set to white by excluding from in-groups list)\n",
    "plt.savefig(fname='/home/ryan/Sean/Pig6mo/crop/15_Spatial_Clustering_Epi_wMask.png', dpi=500)\n",
    "\n",
    "data.plt.spatial_scatter_by_gene(gene_name=['KRT14', 'KRT10'], palette='CET_L4', color_bar_reverse=False,\n",
    "                                 out_dpi=400)\n",
    "plt.savefig(fname='/home/ryan/Sean/Pig6mo/crop/Palette_Krt_CET_L4.png', dpi=400)\n",
    "\n",
    "data.plt.spatial_scatter_by_gene(gene_name=['KRT14', 'KRT15'], palette='CET_L20', color_bar_reverse=False,\n",
    "                                 out_dpi=400)\n",
    "plt.savefig(fname='/home/ryan/Sean/Pig6mo/crop/Palette_KRT_CET_L20.png', dpi=400)\n",
    "\n",
    "data.plt.spatial_scatter_by_gene(gene_name=['COL1A1', 'COL3A1'], palette='CET_L4', color_bar_reverse=False,\n",
    "                                 out_dpi=400)\n",
    "plt.savefig(fname='/home/ryan/Sean/Pig6mo/crop/Palette_COL_CET_L4.png', dpi=400)\n",
    "\n",
    "data.plt.spatial_scatter_by_gene(gene_name=['COL1A1', 'COL3A1'], palette='CET_L20', color_bar_reverse=False,\n",
    "                                 out_dpi=400)\n",
    "plt.savefig(fname='/home/ryan/Sean/Pig6mo/crop/Palette_COL_CET_L20.png', dpi=400)"
   ]
  },
  {
   "cell_type": "code",
   "execution_count": null,
   "id": "1287e7c8-52e7-4690-a979-f9b26fbf98c5",
   "metadata": {},
   "outputs": [],
   "source": [
    "#view spatial clustering subs across the tissue mask\n",
    "#Leiden clustering (finalized)\n",
    "data.tl.leiden(neighbors_res_key='neighbors',res_key='leiden', resolution=1.0)#resolution=1 is default\n",
    "data.plt.cluster_scatter(res_key='leiden', base_image='/home/ryan/Sean/IMG/Pig6mo_crop/B03701G4_ssDNA_regist.tif', \n",
    "                         others_color='#FFFFFF', foreground_alpha=1,\n",
    "                         groups=['2', '7'])#view key clusters\n",
    "plt.savefig(fname='/home/ryan/Sean/Pig6mo/crop/18_Spatial_Clustering_Epi_wMask.png', dpi=500)\n",
    "\n",
    "data.plt.cluster_scatter(res_key='leiden', base_image='/home/ryan/Sean/IMG/Pig6mo_crop/B03701G4_ssDNA_regist.tif', \n",
    "                         others_color='#FFFFFF', foreground_alpha=1,\n",
    "                         groups=['2', '5', '6', '7', '9'])#view key clusters\n",
    "plt.savefig(fname='/home/ryan/Sean/Pig6mo/crop/18_Spatial_Clustering_EpiDerm_wMask.png', dpi=500)"
   ]
  },
  {
   "cell_type": "code",
   "execution_count": null,
   "id": "62d105de-514f-459b-aeff-473881bb45b8",
   "metadata": {},
   "outputs": [],
   "source": [
    "#save the StereoExpData to file\n",
    "st.io.write_h5ad(data, use_raw=True, use_result=True, key_record=None, output='/home/ryan/Sean/Object/StereoSeq/Pig6mo_bin20_crop_normalized_v1.stereo.h5ad', split_batches=True)"
   ]
  },
  {
   "cell_type": "code",
   "execution_count": null,
   "id": "4387bc68-feb7-4608-b75f-77fd5a127f5d",
   "metadata": {
    "scrolled": true
   },
   "outputs": [],
   "source": [
    "#convert the StereoExpData object to be anndata (for Scanpy)\n",
    "st.io.stereo_to_anndata(data, flavor='scanpy', sample_id='Pig6mo', output='/home/ryan/Sean/Object/StereoSeq/Pig6mo_bin20_crop_normalized_v1.stereo.forScanpy.h5ad')"
   ]
  },
  {
   "cell_type": "code",
   "execution_count": null,
   "id": "e3741d88-e9fa-4a7f-9a8b-7ddb9389f619",
   "metadata": {},
   "outputs": [],
   "source": [
    "#load normalized stereo-seq data\n",
    "data = st.io.read_h5ad(file_path='/home/ryan/Sean/Object/StereoSeq/Pig6mo_bin20_crop_normalized_v1.stereo.forScanpy.h5ad', spatial_key='spatial')#normalized\n",
    "data#view stereopy object prepared from stereoseq\n",
    "data.adata"
   ]
  },
  {
   "cell_type": "code",
   "execution_count": null,
   "id": "3e65517d-1ad2-4eef-ad28-e5702da77420",
   "metadata": {},
   "outputs": [],
   "source": [
    "#convert the StereoExpData object to be anndata (for Seurat)\n",
    "st.io.stereo_to_anndata(data, sample_id='Pig6mo', flavor='seurat', output='/home/ryan/Sean/Object/StereoSeq/Pig6mo_bin20_crop_normalized_v1_stereo_forSeurat.h5ad')"
   ]
  },
  {
   "cell_type": "code",
   "execution_count": null,
   "id": "861e249a-fd14-4cc8-a25c-19c1de03f11b",
   "metadata": {},
   "outputs": [],
   "source": [
    "#convert the Scanpy flavor anndata object to save as adata\n",
    "data.adata.write_h5ad('/home/ryan/Sean/Object/StereoSeq/Pig6mo_bin20_crop_normalized_v1_stereo_anndata.h5ad')"
   ]
  },
  {
   "cell_type": "code",
   "execution_count": null,
   "id": "8ccc4f85-a7c0-4c5c-ac6a-ad21caf8059c",
   "metadata": {},
   "outputs": [],
   "source": [
    "#convert the normalized anndata.h5ad file in R to .rds using sceasy to read into a Seurat object SCTransform-normalized data"
   ]
  },
  {
   "cell_type": "code",
   "execution_count": null,
   "id": "da77bad2-76c3-40f2-b089-3bdf1eec193d",
   "metadata": {},
   "outputs": [],
   "source": [
    "#Find marker genes from spatial clusters\n",
    "data.tl.find_marker_genes(\n",
    "        cluster_res_key='leiden',\n",
    "        method='t_test',\n",
    "        use_highly_genes=False,\n",
    "        use_raw=True\n",
    "        )"
   ]
  },
  {
   "cell_type": "code",
   "execution_count": null,
   "id": "75684b8b-b8e8-4ea2-bd0e-f5e5c7afb42c",
   "metadata": {
    "scrolled": true
   },
   "outputs": [],
   "source": [
    "#view top markers of Stereo-seq Leiden clusters\n",
    "data.plt.marker_genes_text(\n",
    "        res_key='marker_genes',\n",
    "        markers_num=10,\n",
    "        sort_key='scores'\n",
    "        )#Scatter of marker genes\n",
    "plt.savefig(fname='/home/ryan/Sean/Pig6mo/crop/16_MarkerGenes_Text.png', dpi=500)\n",
    "data.plt.marker_genes_scatter(res_key='marker_genes', markers_num=10)\n",
    "plt.savefig(fname='/home/ryan/Sean/Pig6mo/crop/16_MarkerGenes_Scatter.png', dpi=500)"
   ]
  },
  {
   "cell_type": "code",
   "execution_count": null,
   "id": "9fa96de9-6ee7-4bed-b35d-e617a82863ec",
   "metadata": {
    "scrolled": true
   },
   "outputs": [],
   "source": [
    "#filter marker genes\n",
    "data.tl.filter_marker_genes(\n",
    "    marker_genes_res_key='marker_genes',\n",
    "    min_fold_change=1,\n",
    "    min_in_group_fraction=0.1,\n",
    "    max_out_group_fraction=0.5,\n",
    "    res_key='marker_genes_filtered'\n",
    ")\n",
    "\n",
    "#view filtered top markers of Stereo-seq Leiden clusters\n",
    "data.plt.marker_genes_text(\n",
    "        res_key='marker_genes',\n",
    "        markers_num=10,\n",
    "        sort_key='scores'\n",
    "        )#Scatter of marker genes\n",
    "plt.savefig(fname='/home/ryan/Sean/Pig6mo/crop/17_MarkerGenes_Text_filtered.png', dpi=500)\n",
    "data.plt.marker_genes_scatter(res_key='marker_genes', markers_num=10)\n",
    "plt.savefig(fname='/home/ryan/Sean/Pig6mo/crop/17_MarkerGenes_Scatter_filtered.png', dpi=500)"
   ]
  },
  {
   "cell_type": "code",
   "execution_count": null,
   "id": "2e34c01d-d14d-432c-bcd9-1a62093f20a8",
   "metadata": {
    "scrolled": true
   },
   "outputs": [],
   "source": [
    "#view subset of Leiden clustering onto the mask of the tissue section\n",
    "leiden_clusters = ['1', '2', '3', '4', '5', '6', '7', '8', '9', '10', \n",
    "                   '11', '12', '13', '14', '15', '16', '17', '18', '19', '20']\n",
    "\n",
    "#prepare directory and pathing strings for autoexport\n",
    "dir_out = '/home/ryan/Sean/Pig6mo/crop/Leiden_iso'#path to main output directory\n",
    "#sample = 'Pig6mo'#sample id for output directory subfolder\n",
    "\n",
    "#generate and export spatial_scatter visualizing each cluster individually\n",
    "for i, cluster in enumerate(leiden_clusters):\n",
    "    path_out = os.path.join(dir_out, cluster)#combine all pathing elements to get iterable file path\n",
    "\n",
    "    #view spatial gene expression across the tissue mask\n",
    "    data.plt.cluster_scatter(res_key='leiden', base_image='/home/ryan/Sean/IMG/Pig6mo_crop/B03701G4_ssDNA_regist.tif', \n",
    "                             others_color='#FFFFFF', foreground_alpha=1,\n",
    "                             groups=leiden_clusters[i])#view each cluster one at a time\n",
    "    plt.savefig(fname=path_out, dpi=500)\n",
    "    \n",
    "#data.plt.cluster_scatter(res_key='leiden', groups=['1', '2', '3', '4', '5', '6', '7', '8', '9', '10', '11'\n",
    "#                                                  '12', '13', '14', '15', '16', '17', \n",
    "#                                                   '18', '19', '20', '21', '22', '23'], foreground_alpha=1)#exclude cluster 11 (not tissue)\n",
    "#plt.savefig(fname='/home/ryan/Sean/Pig6mo/crop/8_Spatial_Clustering_focus.png', dpi=500)\n",
    "#data.plt.cluster_scatter(res_key='leiden', groups=['16', '18'], base_image='/home/ryan/Sean/IMG/Pig6mo_crop/B03701E2_ssDNA_regist.tif',\n",
    "#                        others_color='#FFFFFF', foreground_alpha=1)\n",
    "#plt.savefig(fname='/home/ryan/Sean/Pig6mo/crop/8_filtered_Spatial_Clustering_focus_Epi_wMask.png', dpi=500)"
   ]
  },
  {
   "cell_type": "code",
   "execution_count": null,
   "id": "028d8d85-bae2-4393-8c2d-47b02cca026e",
   "metadata": {
    "scrolled": true
   },
   "outputs": [],
   "source": [
    "#view individual DEGs\n",
    "data.plt.spatial_scatter_by_gene(gene_name=['CCL21'], palette='CET_L4', color_bar_reverse=False,\n",
    "                                 out_dpi=500, height=1000, width=450)\n",
    "plt.savefig(fname='/home/ryan/Sean/Pig6mo/crop/CCL21.png', dpi=500)\n",
    "data.plt.spatial_scatter_by_gene(gene_name=['DLK2'], palette='CET_L4', color_bar_reverse=False,\n",
    "                                 out_dpi=500, height=1000, width=450)\n",
    "plt.savefig(fname='/home/ryan/Sean/Pig6mo/crop/DLK2.png', dpi=500)\n",
    "data.plt.spatial_scatter_by_gene(gene_name=['CXCL14'], palette='CET_L4', color_bar_reverse=False,\n",
    "                                 out_dpi=500, height=1000, width=450)\n",
    "plt.savefig(fname='/home/ryan/Sean/Pig6mo/crop/CXCL14.png', dpi=500)\n",
    "data.plt.spatial_scatter_by_gene(gene_name=['TGFBI'], palette='CET_L4', color_bar_reverse=False,\n",
    "                                 out_dpi=500, height=1000, width=450)\n",
    "plt.savefig(fname='/home/ryan/Sean/Pig6mo/crop/TGFBI.png', dpi=500)\n",
    "data.plt.spatial_scatter_by_gene(gene_name=['LORICRIN'], palette='CET_L4', color_bar_reverse=False,\n",
    "                                 out_dpi=500, height=1000, width=450)\n",
    "plt.savefig(fname='/home/ryan/Sean/Pig6mo/crop/LORICRIN.png', dpi=500)\n",
    "data.plt.spatial_scatter_by_gene(gene_name=['SBSN'], palette='CET_L4', color_bar_reverse=False,\n",
    "                                 out_dpi=500, height=1000, width=450)\n",
    "plt.savefig(fname='/home/ryan/Sean/Pig6mo/crop/SBSN.png', dpi=500)\n",
    "data.plt.spatial_scatter_by_gene(gene_name=['VWA8'], palette='CET_L4', color_bar_reverse=False,\n",
    "                                 out_dpi=500, height=1000, width=450)\n",
    "plt.savefig(fname='/home/ryan/Sean/Pig6mo/crop/VWA8.png', dpi=500)\n",
    "data.plt.spatial_scatter_by_gene(gene_name=['IGFBP7'], palette='CET_L4', color_bar_reverse=False,\n",
    "                                 out_dpi=500, height=1000, width=450)\n",
    "plt.savefig(fname='/home/ryan/Sean/Pig6mo/crop/IGFBP7.png', dpi=500)"
   ]
  },
  {
   "cell_type": "code",
   "execution_count": null,
   "id": "86cf26e1-b8f6-41a3-9e98-0ead7c64fdf2",
   "metadata": {},
   "outputs": [],
   "source": [
    "#rename clusters by cell identity\n",
    "annotation_dict = {\n",
    "    '1':'Reticular_Fibroblast',\n",
    "    '2':'Basal_Keratinocyte',\n",
    "    '3':'Reticular_Fibroblast',\n",
    "    '4':'Papillary_Fibroblast',\n",
    "    '5':'Papillary_Fibroblast',\n",
    "    '6':'Vasculature',\n",
    "    '7':'Differentiating_Keratinocyte',\n",
    "    '8':'Reticular_Fibroblast',\n",
    "    '9':'Papillary_Fibroblast',\n",
    "    '10':'Fibroblast',\n",
    "    '11':'Cornified_Envelope',\n",
    "    '12':'Fibroblast',\n",
    "    '13':'Fibroblast',\n",
    "    '14':'Papillary_Fibroblast',\n",
    "    '15':'Fibroblast',\n",
    "    '16':'Fibroblast',\n",
    "    '17':'Fibroblast',\n",
    "    '18':'Infundibulum',\n",
    "    '19':'Reticular_Fibroblast',\n",
    "    '20':'Fibroblast'\n",
    "}"
   ]
  },
  {
   "cell_type": "code",
   "execution_count": null,
   "id": "7ba4af85-e47f-4c23-b7ab-8ecbfa89e472",
   "metadata": {},
   "outputs": [],
   "source": [
    "data.tl.annotation(\n",
    "        annotation_information=annotation_dict,\n",
    "        cluster_res_key='leiden',\n",
    "        res_key='anno_leiden'\n",
    "        )\n",
    "data.plt.cluster_scatter(res_key='anno_leiden')"
   ]
  },
  {
   "cell_type": "code",
   "execution_count": null,
   "id": "d013fe12-148b-4f57-a6a3-793f32de58f4",
   "metadata": {},
   "outputs": [],
   "source": [
    "#view spatial gene expression across the tissue mask\n",
    "data.plt.cluster_scatter(res_key='leiden', base_image='/home/ryan/Sean/IMG/Pig6mo_crop/B03701G4_ssDNA_regist.tif', \n",
    "                         others_color='#FFFFFF', foreground_alpha=1,\n",
    "                         groups=['2', '7'])#view key clusters\n",
    "plt.savefig(fname='/home/ryan/Sean/Pig6mo/crop/18_Spatial_Clustering_Epi_wMask.png', dpi=500)\n",
    "\n",
    "data.plt.cluster_scatter(res_key='leiden', base_image='/home/ryan/Sean/IMG/Pig6mo_crop/B03701G4_ssDNA_regist.tif', \n",
    "                         others_color='#FFFFFF', foreground_alpha=1,\n",
    "                         groups=['2', '4', '5', '6', '7', '9', '14'])#view key clusters\n",
    "plt.savefig(fname='/home/ryan/Sean/Pig6mo/crop/18_Spatial_Clustering_EpiDerm_wMask.png', dpi=500)"
   ]
  },
  {
   "cell_type": "code",
   "execution_count": null,
   "id": "16eef616-b736-449a-a291-5f0d3e45b4b2",
   "metadata": {},
   "outputs": [],
   "source": [
    "#save the normalized StereoExpData to file\n",
    "st.io.write_h5ad(data, use_raw=True, use_result=True, key_record=None, output='/home/ryan/Sean/Object/StereoSeq/Pig6mo_bin20_crop_normalized_v1_labeled.stereo.h5ad', split_batches=True)"
   ]
  },
  {
   "cell_type": "code",
   "execution_count": null,
   "id": "5536ec17-2ffb-47a2-a892-9207213d8f6b",
   "metadata": {},
   "outputs": [],
   "source": [
    "#convert the normalized StereoExpData object to be anndata (for Scanpy)\n",
    "st.io.stereo_to_anndata(data, flavor='scanpy', sample_id='Pig6mo', output='/home/ryan/Sean/Object/StereoSeq/Pig6mo_bin20_crop_normalized_v1_labeled.stereo.forScanpy.h5ad')"
   ]
  }
 ],
 "metadata": {
  "kernelspec": {
   "display_name": "Python (stereopy_env)",
   "language": "python",
   "name": "stereopy_env"
  },
  "language_info": {
   "codemirror_mode": {
    "name": "ipython",
    "version": 3
   },
   "file_extension": ".py",
   "mimetype": "text/x-python",
   "name": "python",
   "nbconvert_exporter": "python",
   "pygments_lexer": "ipython3",
   "version": "3.8.20"
  }
 },
 "nbformat": 4,
 "nbformat_minor": 5
}
