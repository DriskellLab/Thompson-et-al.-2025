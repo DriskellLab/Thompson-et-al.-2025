{
 "cells": [
  {
   "cell_type": "code",
   "execution_count": null,
   "id": "6f34b50e-4e11-45fb-97b1-631808fe8974",
   "metadata": {},
   "outputs": [],
   "source": [
    "#load packages\n",
    "import stereo as st\n",
    "import pandas as pd\n",
    "import numpy as np\n",
    "import scanpy as sc\n",
    "import anndata as an\n",
    "import matplotlib.pyplot as plt\n",
    "from matplotlib import colormaps as cmaps\n",
    "plt.figure(dpi=300)\n",
    "import warnings\n",
    "warnings.filterwarnings('ignore')\n",
    "from tqdm.notebook import tqdm\n",
    "\n",
    "import os as os\n",
    "#verify proper environment is being used on this server\n",
    "import sys\n",
    "print(sys.version)#should be python 3.8\n",
    "import sys\n",
    "print(sys.executable)#should be stereopy_env in miniconda parent directory"
   ]
  },
  {
   "cell_type": "code",
   "execution_count": null,
   "id": "70b2a766-5c58-416a-b40f-39cc0271bd65",
   "metadata": {},
   "outputs": [],
   "source": [
    "#load unfiltered stereo-seq data\n",
    "data = st.io.read_h5ad(file_path='/home/ryan/Sean/Object/StereoSeq/PigP10_bin20.stereo.h5ad', flavor='stereopy')\n",
    "data#view stereopy object prepared from stereoseq\n",
    "#adata = st.io.read_h5ad(file_path='/home/ryan/Sean/Object/StereoSeq/PigP10_bin20.stereo.forScanpy.h5ad', flavor='scanpy')\n",
    "#adata#view adata object prepared for scanpy from stereoseq"
   ]
  },
  {
   "cell_type": "code",
   "execution_count": null,
   "id": "207802e1-b941-4a4b-8987-7077d1e84497",
   "metadata": {},
   "outputs": [],
   "source": [
    "#visualize QC in aggregate\n",
    "data.plt.violin()\n",
    "plt.savefig(fname='/home/ryan/Sean/PigP10/crop/1_QC_Violin.png', dpi=300)\n",
    "data.plt.genes_count()\n",
    "plt.savefig(fname='/home/ryan/Sean/PigP10/crop/2_QC_Scatter.png', dpi=300)"
   ]
  },
  {
   "cell_type": "code",
   "execution_count": null,
   "id": "fcdecfc9-8bfc-49e1-93bb-0cc490119038",
   "metadata": {},
   "outputs": [],
   "source": [
    "#Visualize QC on the spatial tissue map\n",
    "data.plt.spatial_scatter(out_dpi=500)\n",
    "plt.savefig(fname='/home/ryan/Sean/PigP10/crop/3_QC_SpatialScatter.png', dpi=500)\n",
    "data.plt.spatial_scatter(base_image='/home/ryan/Sean/IMG/PigP10_crop/B03701E2_ssDNA_regist.tif', base_im_to_gray=True, out_dpi=500)\n",
    "plt.savefig(fname='/home/ryan/Sean/PigP10/crop/3_QC_SpatialScatter_wMask.png', dpi=500)"
   ]
  },
  {
   "cell_type": "code",
   "execution_count": null,
   "id": "d8ba2ce2-258b-4b75-8afa-6bd1e59ae1de",
   "metadata": {},
   "outputs": [],
   "source": [
    "#do QC filtration\n",
    "data\n",
    "#min_n_genes_by_counts: minimum number of total counts required for a cell to pass fitlering\n",
    "#min_gene: minimum number of genes expressed required for a cell to pass filtering\n",
    "data.tl.filter_cells(\n",
    "        min_n_genes_by_counts=50,\n",
    "        min_gene=5,\n",
    "        pct_counts_mt=10,\n",
    "        inplace=True\n",
    "        )#in ~stereopy/stereo/core/st_pipeline.py:162, filter_cells is defined with parameters 'min_gene'/'max_gene'/'min_n_genes_by_counts' not 'min_genes'/'max_genes'/'min_counts' like in stereopy vignette\n",
    "data\n",
    "\n",
    "#Visualize QC on the spatial tissue map\n",
    "data.plt.spatial_scatter(out_dpi=500)\n",
    "plt.savefig(fname='/home/ryan/Sean/PigP10/crop/4_QC_Filtered_SpatialScatter.png', dpi=500)\n",
    "data.plt.spatial_scatter(base_image='/home/ryan/Sean/IMG/PigP10_crop/B03701E2_ssDNA_regist.tif', base_im_to_gray=True, out_dpi=500)\n",
    "plt.savefig(fname='/home/ryan/Sean/PigP10/crop/4_QC_Filtered_SpatialScatter_wMask.png', dpi=500)"
   ]
  },
  {
   "cell_type": "code",
   "execution_count": null,
   "id": "bd0a1d7a-5281-402e-9a3c-03661b40f8e9",
   "metadata": {},
   "outputs": [],
   "source": [
    "data.tl.raw_checkpoint()#save the stereopy data object before normalizing\n",
    "data.tl.raw\n",
    "#data.tl.reset_raw_data()#restore data object to the saved raw data object"
   ]
  },
  {
   "cell_type": "code",
   "execution_count": null,
   "id": "e4273995-9e23-474a-80e3-fa51928698c1",
   "metadata": {},
   "outputs": [],
   "source": [
    "#use scTransform to normalize data and identify variable genes\n",
    "data.tl.sctransform(res_key='sctransform', inplace=True, filter_hvgs=False, n_cells=10000, n_genes=2000)\n",
    "#https://stereopy.readthedocs.io/en/latest/Tutorials/scTransform.html"
   ]
  },
  {
   "cell_type": "code",
   "execution_count": null,
   "id": "dac9dfcd-1176-40bc-8f34-66350ea2a403",
   "metadata": {},
   "outputs": [],
   "source": [
    "# run PCA and identify number of PCs to use for clustering\n",
    "data.tl.pca(use_highly_genes=False, hvg_res_key='highly_variable_genes', n_pcs=30, res_key='pca', svd_solver='arpack')\n",
    "data.plt.elbow(pca_res_key='pca')\n",
    "plt.savefig(fname='/home/ryan/Sean/PigP10/crop/5_PC_ElbowPlot.png', dpi=300)"
   ]
  },
  {
   "cell_type": "code",
   "execution_count": null,
   "id": "e8bdfc20-2ab1-4245-8929-6bb7798dfa63",
   "metadata": {},
   "outputs": [],
   "source": [
    "data.tl.neighbors(pca_res_key='pca', n_pcs=20, res_key='neighbors', n_jobs=6)\n",
    "data.tl.umap(pca_res_key='pca', neighbors_res_key='neighbors', res_key='umap', init_pos='spectral', spread=2.0)"
   ]
  },
  {
   "cell_type": "code",
   "execution_count": null,
   "id": "62717219-4f74-402d-ab63-bc597b486647",
   "metadata": {},
   "outputs": [],
   "source": [
    "#visualize expression of marker genes across the UMAP\n",
    "data.plt.umap(gene_names=['KRT15', 'KRT10'], res_key='umap', out_dpi=500)\n",
    "plt.savefig(fname='/home/ryan/Sean/PigP10/crop/6_KRT15_KRT10_UMAP.png', dpi=500)\n",
    "\n",
    "data.plt.umap(gene_names=['COL1A1','COL3A1'], res_key='umap', out_dpi=500)\n",
    "plt.savefig(fname='/home/ryan/Sean/PigP10/crop/6_COL1A1_COL3A1_UMAP.png', dpi=500)"
   ]
  },
  {
   "cell_type": "code",
   "execution_count": null,
   "id": "a0563cfe-eb8f-484d-8597-5c04c7b6a937",
   "metadata": {},
   "outputs": [],
   "source": [
    "#Leiden clustering\n",
    "data.tl.leiden(neighbors_res_key='neighbors',res_key='leiden', resolution=1)#resolution=1 is default"
   ]
  },
  {
   "cell_type": "code",
   "execution_count": null,
   "id": "e47f2669-08f6-45ea-a4df-a3f3b6126665",
   "metadata": {},
   "outputs": [],
   "source": [
    "#view Leiden clustering onto the mask of the tissue section\n",
    "data.plt.cluster_scatter(res_key='leiden')\n",
    "plt.savefig(fname='/home/ryan/Sean/PigP10/crop/7_Spatial_Clustering.png', dpi=500)\n",
    "data.plt.cluster_scatter(res_key='leiden', base_image='/home/ryan/Sean/IMG/PigP10_crop/B03701E2_ssDNA_regist.tif', foreground_alpha=1)\n",
    "plt.savefig(fname='/home/ryan/Sean/PigP10/crop/7_Spatial_Clustering_wMask.png', dpi=500)"
   ]
  },
  {
   "cell_type": "code",
   "execution_count": null,
   "id": "8b5c55d1-1cf7-4414-a062-bb0eb99ddd8a",
   "metadata": {},
   "outputs": [],
   "source": [
    "#view subset of Leiden clustering onto the mask of the tissue section\n",
    "data.plt.cluster_scatter(res_key='leiden', groups=['1', '2', '3', '4', '5', '6', '7', '8', '9', '10',\n",
    "                                                  '12', '13', '14', '15', '16', '17', \n",
    "                                                   '18', '19', '20', '21', '22', '23'], \n",
    "                         others_color='#FFFFFF', foreground_alpha=1)#exclude cluster 11 (not tissue)\n",
    "plt.savefig(fname='/home/ryan/Sean/PigP10/crop/8_Spatial_Clustering_focus.png', dpi=500)\n",
    "data.plt.cluster_scatter(res_key='leiden', groups=['16', '18'], base_image='/home/ryan/Sean/IMG/PigP10_crop/B03701E2_ssDNA_regist.tif',\n",
    "                        others_color='#FFFFFF', foreground_alpha=1)\n",
    "plt.savefig(fname='/home/ryan/Sean/PigP10/crop/8_filtered_Spatial_Clustering_focus_Epi_wMask.png', dpi=500)"
   ]
  },
  {
   "cell_type": "code",
   "execution_count": null,
   "id": "a40eac0e-ee7b-497a-8603-3e73e22d89fe",
   "metadata": {},
   "outputs": [],
   "source": [
    "data.plt.umap(res_key='umap', cluster_key='leiden')\n",
    "plt.savefig(fname='/home/ryan/Sean/PigP10/crop/9_Leiden_UMAP.png', dpi=500)"
   ]
  },
  {
   "cell_type": "code",
   "execution_count": null,
   "id": "7dc67955-4159-4d6d-ac98-50fdd73e1203",
   "metadata": {
    "scrolled": true
   },
   "outputs": [],
   "source": [
    "#view spatial gene expression across the tissue mask\n",
    "data.plt.spatial_scatter_by_gene(gene_name='KRT14', palette='linear_grey_10_95_c0',out_dpi=500, height=1000, width=1000)\n",
    "plt.savefig(fname='/home/ryan/Sean/PigP10/crop/KRT14_Spatial_Expression(grey).png', dpi=500)\n",
    "data.plt.spatial_scatter_by_gene(gene_name='KRT15', palette='linear_grey_10_95_c0',out_dpi=500, height=1000, width=1000)\n",
    "plt.savefig(fname='/home/ryan/Sean/PigP10/crop/KRT15_Spatial_Expression(grey).png', dpi=500)\n",
    "data.plt.spatial_scatter_by_gene(gene_name='KRT10', palette='linear_grey_10_95_c0',out_dpi=500, height=1000, width=1000)\n",
    "plt.savefig(fname='/home/ryan/Sean/PigP10/crop/KRT10_Spatial_Expression(grey).png', dpi=500)\n",
    "data.plt.spatial_scatter_by_gene(gene_name='COL1A1', palette='linear_grey_10_95_c0',out_dpi=500, height=1000, width=1000)\n",
    "plt.savefig(fname='/home/ryan/Sean/PigP10/crop/COL1A1_Spatial_Expression(grey).png', dpi=500)\n",
    "data.plt.spatial_scatter_by_gene(gene_name='COL3A1', palette='linear_grey_10_95_c0',out_dpi=500, height=1000, width=1000)\n",
    "plt.savefig(fname='/home/ryan/Sean/PigP10/crop/COL3A1_Spatial_Expression(grey).png', dpi=500)\n",
    "data.plt.spatial_scatter_by_gene(gene_name='PDGFRA', palette='linear_grey_10_95_c0',out_dpi=500, height=1000, width=1000)\n",
    "plt.savefig(fname='/home/ryan/Sean/PigP10/crop/PDGFRA_Spatial_Expression(grey).png', dpi=500)\n",
    "data.plt.spatial_scatter_by_gene(gene_name='PIEZO2', palette='linear_grey_10_95_c0',out_dpi=500, height=1000, width=1000)\n",
    "plt.savefig(fname='/home/ryan/Sean/PigP10/crop/PIEZO2_Spatial_Expression(grey).png', dpi=500)\n",
    "data.plt.spatial_scatter_by_gene(gene_name='MFAP5', palette='linear_grey_10_95_c0',out_dpi=500, height=1000, width=1000)\n",
    "plt.savefig(fname='/home/ryan/Sean/PigP10/crop/MFAP5_Spatial_Expression(grey).png', dpi=500)\n",
    "data.plt.spatial_scatter_by_gene(gene_name='VIM', palette='linear_grey_10_95_c0',out_dpi=500, height=1000, width=1000)\n",
    "plt.savefig(fname='/home/ryan/Sean/PigP10/crop/VIM_Spatial_Expression(grey).png', dpi=500)\n",
    "data.plt.spatial_scatter_by_gene(gene_name='SOX9', palette='linear_grey_10_95_c0',out_dpi=500, height=1000, width=1000)\n",
    "plt.savefig(fname='/home/ryan/Sean/PigP10/crop/SOX9_Spatial_Expression(grey).png', dpi=500)\n",
    "data.plt.spatial_scatter_by_gene(gene_name='VEGFA', palette='linear_grey_10_95_c0',out_dpi=500, height=1000, width=1000)\n",
    "plt.savefig(fname='/home/ryan/Sean/PigP10/crop/VEGFA_Spatial_Expression(grey).png', dpi=500)\n",
    "data.plt.spatial_scatter_by_gene(gene_name='PDGFC', palette='linear_grey_10_95_c0',out_dpi=500, height=1000, width=1000)\n",
    "plt.savefig(fname='/home/ryan/Sean/PigP10/crop/PDGFC_Spatial_Expression(grey).png', dpi=500)\n",
    "data.plt.spatial_scatter_by_gene(gene_name='PECAM1', palette='linear_grey_10_95_c0',out_dpi=500, height=1000, width=1000)\n",
    "plt.savefig(fname='/home/ryan/Sean/PigP10/crop/PECAM1_Spatial_Expression(grey).png', dpi=500)\n",
    "data.plt.spatial_scatter_by_gene(gene_name='CDH5', palette='linear_grey_10_95_c0',out_dpi=500, height=1000, width=1000)\n",
    "plt.savefig(fname='/home/ryan/Sean/PigP10/crop/CDH5_Spatial_Expression(grey).png', dpi=500)\n",
    "data.plt.spatial_scatter_by_gene(gene_name='ACTA2', palette='linear_grey_10_95_c0',out_dpi=500, height=1000, width=1000)\n",
    "plt.savefig(fname='/home/ryan/Sean/PigP10/crop/ACTA2_Spatial_Expression(grey).png', dpi=500)\n",
    "data.plt.spatial_scatter_by_gene(gene_name='RGS5', palette='linear_grey_10_95_c0',out_dpi=500, height=1000, width=1000)\n",
    "plt.savefig(fname='/home/ryan/Sean/PigP10/crop/RGS5_Spatial_Expression(grey).png', dpi=500)\n",
    "\n",
    "#view spatial gene expression across the tissue mask\n",
    "data.plt.spatial_scatter_by_gene(gene_name='KRT14', palette='CET_L4', color_bar_reverse=False, out_dpi=500, height=1000, width=1000)\n",
    "plt.savefig(fname='/home/ryan/Sean/PigP10/crop/KRT14_Spatial_Expression(CET_L4).png', dpi=500)\n",
    "data.plt.spatial_scatter_by_gene(gene_name='KRT15', palette='CET_L4', color_bar_reverse=False, out_dpi=500, height=1000, width=1000)\n",
    "plt.savefig(fname='/home/ryan/Sean/PigP10/crop/KRT15_Spatial_Expression(CET_L4).png', dpi=500)\n",
    "data.plt.spatial_scatter_by_gene(gene_name='KRT10', palette='CET_L4', color_bar_reverse=False, out_dpi=500, height=1000, width=1000)\n",
    "plt.savefig(fname='/home/ryan/Sean/PigP10/crop/KRT10_Spatial_Expression(CET_L4).png', dpi=500)\n",
    "data.plt.spatial_scatter_by_gene(gene_name='COL1A1', palette='CET_L4', color_bar_reverse=False, out_dpi=500, height=1000, width=1000)\n",
    "plt.savefig(fname='/home/ryan/Sean/PigP10/crop/COL1A1_Spatial_Expression(CET_L4).png', dpi=500)\n",
    "data.plt.spatial_scatter_by_gene(gene_name='COL3A1', palette='CET_L4', color_bar_reverse=False, out_dpi=500, height=1000, width=1000)\n",
    "plt.savefig(fname='/home/ryan/Sean/PigP10/crop/COL3A1_Spatial_Expression(CET_L4).png', dpi=500)\n",
    "data.plt.spatial_scatter_by_gene(gene_name='PDGFRA', palette='CET_L4', color_bar_reverse=False, out_dpi=500, height=1000, width=1000)\n",
    "plt.savefig(fname='/home/ryan/Sean/PigP10/crop/PDGFRA_Spatial_Expression(CET_L4).png', dpi=500)\n",
    "data.plt.spatial_scatter_by_gene(gene_name='PIEZO2', palette='CET_L4', color_bar_reverse=False, out_dpi=500, height=1000, width=1000)\n",
    "plt.savefig(fname='/home/ryan/Sean/PigP10/crop/PIEZO2_Spatial_Expression(CET_L4).png', dpi=500)\n",
    "data.plt.spatial_scatter_by_gene(gene_name='MFAP5', palette='CET_L4', color_bar_reverse=False, out_dpi=500, height=1000, width=1000)\n",
    "plt.savefig(fname='/home/ryan/Sean/PigP10/crop/MFAP5_Spatial_Expression(CET_L4).png', dpi=500)\n",
    "data.plt.spatial_scatter_by_gene(gene_name='VIM', palette='CET_L4', color_bar_reverse=False, out_dpi=500, height=1000, width=1000)\n",
    "plt.savefig(fname='/home/ryan/Sean/PigP10/crop/VIM_Spatial_Expression(CET_L4).png', dpi=500)\n",
    "data.plt.spatial_scatter_by_gene(gene_name='SOX9', palette='CET_L4', color_bar_reverse=False, out_dpi=500, height=1000, width=1000)\n",
    "plt.savefig(fname='/home/ryan/Sean/PigP10/crop/SOX9_Spatial_Expression(CET_L4).png', dpi=500)\n",
    "data.plt.spatial_scatter_by_gene(gene_name='VEGFA', palette='CET_L4', color_bar_reverse=False, out_dpi=500, height=1000, width=1000)\n",
    "plt.savefig(fname='/home/ryan/Sean/PigP10/crop/VEGFA_Spatial_Expression(CET_L4).png', dpi=500)\n",
    "data.plt.spatial_scatter_by_gene(gene_name='PDGFC', palette='CET_L4', color_bar_reverse=False, out_dpi=500, height=1000, width=1000)\n",
    "plt.savefig(fname='/home/ryan/Sean/PigP10/crop/PDGFC_Spatial_Expression(CET_L4).png', dpi=500)\n",
    "data.plt.spatial_scatter_by_gene(gene_name='PECAM1', palette='CET_L4', color_bar_reverse=False, out_dpi=500, height=1000, width=1000)\n",
    "plt.savefig(fname='/home/ryan/Sean/PigP10/crop/PECAM1_Spatial_Expression(CET_L4).png', dpi=500)\n",
    "data.plt.spatial_scatter_by_gene(gene_name='CDH5', palette='CET_L4', color_bar_reverse=False, out_dpi=500, height=1000, width=1000)\n",
    "plt.savefig(fname='/home/ryan/Sean/PigP10/crop/CDH5_Spatial_Expression(CET_L4).png', dpi=500)\n",
    "data.plt.spatial_scatter_by_gene(gene_name='ACTA2', palette='CET_L4', color_bar_reverse=False, out_dpi=500, height=1000, width=1000)\n",
    "plt.savefig(fname='/home/ryan/Sean/PigP10/crop/ACTA2_Spatial_Expression(CET_L4).png', dpi=500)\n",
    "data.plt.spatial_scatter_by_gene(gene_name='RGS5', palette='CET_L4', color_bar_reverse=False, out_dpi=500, height=1000, width=1000)\n",
    "plt.savefig(fname='/home/ryan/Sean/PigP10/crop/RGS5_Spatial_Expression(CET_L4).png', dpi=500)"
   ]
  },
  {
   "cell_type": "code",
   "execution_count": null,
   "id": "0b9ab9b9-475e-4c16-b448-55092dd78d11",
   "metadata": {
    "scrolled": true
   },
   "outputs": [],
   "source": [
    "#Leiden clustering optimization\n",
    "#0.8 (1.0 default)\n",
    "data.tl.leiden(neighbors_res_key='neighbors',res_key='leiden', resolution=0.8)#resolution=1 is default\n",
    "#view Leiden clustering onto the mask of the tissue section\n",
    "data.plt.cluster_scatter(res_key='leiden')\n",
    "plt.savefig(fname='/home/ryan/Sean/PigP10/crop/10_Spatial_Clustering_res0.8.png', dpi=500)\n",
    "data.plt.cluster_scatter(res_key='leiden', base_image='/home/ryan/Sean/IMG/PigP10_crop/B03701E2_ssDNA_regist.tif', foreground_alpha=1)\n",
    "plt.savefig(fname='/home/ryan/Sean/PigP10/crop/10_Spatial_Clustering_wMask_res0.8.png', dpi=500)\n",
    "data.plt.umap(res_key='umap', cluster_key='leiden')\n",
    "plt.savefig(fname='/home/ryan/Sean/PigP10/crop/10_Leiden_UMAP_res0.8.png', dpi=500)\n",
    "\n",
    "#0.6 (1.0 default)\n",
    "data.tl.leiden(neighbors_res_key='neighbors',res_key='leiden', resolution=0.6)#resolution=1 is default\n",
    "#view Leiden clustering onto the mask of the tissue section\n",
    "data.plt.cluster_scatter(res_key='leiden')\n",
    "plt.savefig(fname='/home/ryan/Sean/PigP10/crop/11_Spatial_Clustering_res0.6.png', dpi=500)\n",
    "data.plt.cluster_scatter(res_key='leiden', base_image='/home/ryan/Sean/IMG/PigP10_crop/B03701E2_ssDNA_regist.tif', foreground_alpha=1)\n",
    "plt.savefig(fname='/home/ryan/Sean/PigP10/crop/11_Spatial_Clustering_wMask_res0.6.png', dpi=500)\n",
    "data.plt.umap(res_key='umap', cluster_key='leiden')\n",
    "plt.savefig(fname='/home/ryan/Sean/PigP10/crop/11_Leiden_UMAP_res0.8.png', dpi=500)\n",
    "\n",
    "#0.4 (1.0 default)\n",
    "data.tl.leiden(neighbors_res_key='neighbors',res_key='leiden', resolution=0.4)#resolution=1 is default\n",
    "#view Leiden clustering onto the mask of the tissue section\n",
    "data.plt.cluster_scatter(res_key='leiden')\n",
    "plt.savefig(fname='/home/ryan/Sean/PigP10/crop/12_Spatial_Clustering_res0.4.png', dpi=500)\n",
    "data.plt.cluster_scatter(res_key='leiden', base_image='/home/ryan/Sean/IMG/PigP10_crop/B03701E2_ssDNA_regist.tif', foreground_alpha=1)\n",
    "plt.savefig(fname='/home/ryan/Sean/PigP10/crop/12_Spatial_Clustering_wMask_res0.4.png', dpi=500)\n",
    "data.plt.umap(res_key='umap', cluster_key='leiden')\n",
    "plt.savefig(fname='/home/ryan/Sean/PigP10/crop/12_Leiden_UMAP_res0.4.png', dpi=500)\n",
    "\n",
    "#1.2 (1. default)\n",
    "data.tl.leiden(neighbors_res_key='neighbors',res_key='leiden', resolution=1.2)#resolution=1 is default\n",
    "#view Leiden clustering onto the mask of the tissue section\n",
    "data.plt.cluster_scatter(res_key='leiden')\n",
    "plt.savefig(fname='/home/ryan/Sean/PigP10/crop/13_Spatial_Clustering_res1.2.png', dpi=500)\n",
    "data.plt.cluster_scatter(res_key='leiden', base_image='/home/ryan/Sean/IMG/PigP10_crop/B03701E2_ssDNA_regist.tif', foreground_alpha=1)\n",
    "plt.savefig(fname='/home/ryan/Sean/PigP10/crop/13_Spatial_Clustering_wMask_res1.2.png', dpi=500)\n",
    "data.plt.umap(res_key='umap', cluster_key='leiden')\n",
    "plt.savefig(fname='/home/ryan/Sean/PigP10/crop/13_Leiden_UMAP_res1.2.png', dpi=500)\n",
    "\n",
    "#1.4 (1.0 default)\n",
    "data.tl.leiden(neighbors_res_key='neighbors',res_key='leiden', resolution=1.4)#resolution=1 is default\n",
    "#view Leiden clustering onto the mask of the tissue section\n",
    "data.plt.cluster_scatter(res_key='leiden')\n",
    "plt.savefig(fname='/home/ryan/Sean/PigP10/crop/14_Spatial_Clustering_res1.4.png', dpi=500)\n",
    "data.plt.cluster_scatter(res_key='leiden', base_image='/home/ryan/Sean/IMG/PigP10_crop/B03701E2_ssDNA_regist.tif', foreground_alpha=1)\n",
    "plt.savefig(fname='/home/ryan/Sean/PigP10/crop/14_Spatial_Clustering_wMask_res1.4.png', dpi=500)\n",
    "data.plt.umap(res_key='umap', cluster_key='leiden')\n",
    "plt.savefig(fname='/home/ryan/Sean/PigP10/crop/14_Leiden_UMAP_res1.4.png', dpi=500)\n"
   ]
  },
  {
   "cell_type": "code",
   "execution_count": null,
   "id": "c5d12013-ce2e-41e0-9d9a-56248c075038",
   "metadata": {},
   "outputs": [],
   "source": [
    "#Leiden clustering (finalized)\n",
    "data.tl.leiden(neighbors_res_key='neighbors',res_key='leiden', resolution=1)#resolution=1 is default\n",
    "\n",
    "#view Leiden clustering onto the mask of the tissue section\n",
    "data.plt.cluster_scatter(res_key='leiden')\n",
    "plt.savefig(fname='/home/ryan/Sean/PigP10/crop/15_Spatial_Clustering.png', dpi=500)\n",
    "\n",
    "#view spatial gene expression across the tissue mask\n",
    "data.plt.cluster_scatter(res_key='leiden', base_image='/home/ryan/Sean/IMG/PigP10_crop/B03701E2_ssDNA_regist.tif', \n",
    "                         others_color='#FFFFFF', foreground_alpha=1)#ignore off-tissue cluster (set to white by excluding from in-groups list)\n",
    "plt.savefig(fname='/home/ryan/Sean/PigP10/crop/15_Spatial_Clustering_wMask.png', dpi=500)\n",
    "\n",
    "data.plt.cluster_scatter(res_key='leiden', groups=['1', '2', '3', '4', '5', '6', '7', '8', '9', '10',\n",
    "                                                  '12', '13', '14', '15', '16', '17', \n",
    "                                                   '18', '19', '20', '21', '22', '23'], \n",
    "                         others_color='#FFFFFF', foreground_alpha=1,\n",
    "                        color_bar_reverse=False)#exclude cluster 11 (not tissue)\n",
    "plt.savefig(fname='/home/ryan/Sean/PigP10/crop/15_Spatial_Clustering_sub.png', dpi=500)\n",
    "\n",
    "#view spatial gene expression across the tissue mask\n",
    "data.plt.cluster_scatter(res_key='leiden', base_image='/home/ryan/Sean/IMG/PigP10_crop/B03701E2_ssDNA_regist.tif', \n",
    "                         others_color='#FFFFFF', foreground_alpha=1,\n",
    "                         groups=['1', '2', '3', '4', '5', '6', '7', '8', '9', '10',\n",
    "                                                  '12', '13', '14', '15', '16', '17', \n",
    "                                                   '18', '19', '20', '21', '22', '23'])#ignore off-tissue cluster (set to white by excluding from in-groups list)\n",
    "plt.savefig(fname='/home/ryan/Sean/PigP10/crop/15_Spatial_Clustering_sub_wMask.png', dpi=500)\n",
    "\n",
    "data.plt.spatial_scatter_by_gene(gene_name=['KRT14', 'KRT15'], palette='CET_L4', color_bar_reverse=False,\n",
    "                                 out_dpi=500, height=500, width=1000)\n",
    "plt.savefig(fname='/home/ryan/Sean/PigP10/crop/Palette_Krt_CET_L4.png', dpi=500)\n",
    "\n",
    "data.plt.spatial_scatter_by_gene(gene_name=['KRT14', 'KRT15'], palette='CET_L20', color_bar_reverse=False,\n",
    "                                 out_dpi=500, height=500, width=1000)\n",
    "plt.savefig(fname='/home/ryan/Sean/PigP10/crop/Palette_KRT_CET_L20.png', dpi=500)\n",
    "\n",
    "data.plt.spatial_scatter_by_gene(gene_name=['COL1A1', 'COL3A1'], palette='CET_L4', color_bar_reverse=False,\n",
    "                                 out_dpi=500, height=500, width=1000)\n",
    "plt.savefig(fname='/home/ryan/Sean/PigP10/crop/Palette_COL_CET_L4.png', dpi=500)\n",
    "\n",
    "data.plt.spatial_scatter_by_gene(gene_name=['COL1A1', 'COL3A1'], palette='CET_L20', color_bar_reverse=False,\n",
    "                                 out_dpi=500, height=500, width=1000)\n",
    "plt.savefig(fname='/home/ryan/Sean/PigP10/crop/Palette_COL_CET_L20.png', dpi=500)"
   ]
  },
  {
   "cell_type": "code",
   "execution_count": null,
   "id": "62d105de-514f-459b-aeff-473881bb45b8",
   "metadata": {},
   "outputs": [],
   "source": [
    "#save the normalized StereoExpData to file\n",
    "st.io.write_h5ad(data, use_raw=True, use_result=True, key_record=None, output='/home/ryan/Sean/Object/StereoSeq/PigP10_bin20_crop_normalized_v1.stereo.h5ad', split_batches=True)"
   ]
  },
  {
   "cell_type": "code",
   "execution_count": null,
   "id": "4387bc68-feb7-4608-b75f-77fd5a127f5d",
   "metadata": {},
   "outputs": [],
   "source": [
    "#convert the normalized StereoExpData object to be anndata (for Scanpy)\n",
    "st.io.stereo_to_anndata(data, flavor='scanpy', sample_id='PigP10', output='/home/ryan/Sean/Object/StereoSeq/PigP10_bin20_crop_normalized_v1.stereo.forScanpy.h5ad')"
   ]
  },
  {
   "cell_type": "code",
   "execution_count": null,
   "id": "e3741d88-e9fa-4a7f-9a8b-7ddb9389f619",
   "metadata": {},
   "outputs": [],
   "source": [
    "#load normalized stereo-seq data\n",
    "data = st.io.read_h5ad(file_path='/home/ryan/Sean/Object/StereoSeq/PigP10_bin20_crop_normalized_v1.stereo.forScanpy.h5ad', spatial_key='spatial')#normalized\n",
    "data#view stereopy object prepared from stereoseq\n",
    "data.adata"
   ]
  },
  {
   "cell_type": "code",
   "execution_count": null,
   "id": "3e65517d-1ad2-4eef-ad28-e5702da77420",
   "metadata": {},
   "outputs": [],
   "source": [
    "#convert the StereoExpData object to be anndata (for Seurat)\n",
    "#st.io.stereo_to_anndata(data, sample_id='PigP10', flavor='seurat', output='/home/ryan/Sean/Object/StereoSeq/PigP10_bin20_crop_normalized_v1_stereo_forSeurat.h5ad')"
   ]
  },
  {
   "cell_type": "code",
   "execution_count": null,
   "id": "861e249a-fd14-4cc8-a25c-19c1de03f11b",
   "metadata": {},
   "outputs": [],
   "source": [
    "#convert the Scanpy flavor anndata object to save as adata\n",
    "data.adata.write_h5ad('/home/ryan/Sean/Object/StereoSeq/PigP10_bin20_crop_normalized_v1_stereo_anndata.h5ad')"
   ]
  },
  {
   "cell_type": "code",
   "execution_count": null,
   "id": "8ccc4f85-a7c0-4c5c-ac6a-ad21caf8059c",
   "metadata": {},
   "outputs": [],
   "source": [
    "#convert the normalized anndata.h5ad file in R to .rds using sceasy to read into a Seurat object SCTransform-normalized data"
   ]
  },
  {
   "cell_type": "code",
   "execution_count": null,
   "id": "55f63ee1-e90f-4e59-8602-e95ae2841ebd",
   "metadata": {},
   "outputs": [],
   "source": [
    "#continue in stereopy with the normalized stereoexpdata object (load-in point)\n",
    "\n",
    "#load normalized stereo-seq data\n",
    "data = st.io.read_h5ad(file_path='/home/ryan/Sean/Object/StereoSeq/PigP10_bin20_crop_normalized_v1.stereo.h5ad', flavor='stereopy')#normalized\n",
    "data#view stereopy object prepared from stereoseq"
   ]
  },
  {
   "cell_type": "code",
   "execution_count": null,
   "id": "6c3ecc28-72e5-45c5-9923-346e7e0f1c37",
   "metadata": {},
   "outputs": [],
   "source": [
    "#Find marker genes from spatial clusters\n",
    "data.tl.find_marker_genes(\n",
    "        cluster_res_key='leiden',\n",
    "        method='t_test',\n",
    "        use_highly_genes=False,\n",
    "        use_raw=True\n",
    "        )"
   ]
  },
  {
   "cell_type": "code",
   "execution_count": null,
   "id": "ba44adf3-66db-4890-a602-44aa534ae989",
   "metadata": {
    "scrolled": true
   },
   "outputs": [],
   "source": [
    "#view top markers of Stereo-seq Leiden clusters\n",
    "data.plt.marker_genes_text(\n",
    "        res_key='marker_genes',\n",
    "        markers_num=10,\n",
    "        sort_key='scores'\n",
    "        )#Scatter of marker genes\n",
    "plt.savefig(fname='/home/ryan/Sean/PigP10/crop/16_MarkerGenes_Text.png', dpi=500)\n",
    "data.plt.marker_genes_scatter(res_key='marker_genes', markers_num=10)\n",
    "plt.savefig(fname='/home/ryan/Sean/PigP10/crop/16_MarkerGenes_Scatter.png', dpi=500)"
   ]
  },
  {
   "cell_type": "code",
   "execution_count": null,
   "id": "8ad4be63-5c62-4b6f-a6c4-968d5b1df28b",
   "metadata": {
    "scrolled": true
   },
   "outputs": [],
   "source": [
    "#filter marker genes\n",
    "data.tl.filter_marker_genes(\n",
    "    marker_genes_res_key='marker_genes',\n",
    "    min_fold_change=1,\n",
    "    min_in_group_fraction=0.1,\n",
    "    max_out_group_fraction=0.5,\n",
    "    res_key='marker_genes_filtered'\n",
    ")\n",
    "\n",
    "#view filtered top markers of Stereo-seq Leiden clusters\n",
    "data.plt.marker_genes_text(\n",
    "        res_key='marker_genes',\n",
    "        markers_num=10,\n",
    "        sort_key='scores'\n",
    "        )#Scatter of marker genes\n",
    "plt.savefig(fname='/home/ryan/Sean/PigP10/crop/17_MarkerGenes_Text_filtered.png', dpi=500)\n",
    "data.plt.marker_genes_scatter(res_key='marker_genes', markers_num=10)\n",
    "plt.savefig(fname='/home/ryan/Sean/PigP10/crop/17_MarkerGenes_Scatter_filtered.png', dpi=500)"
   ]
  },
  {
   "cell_type": "code",
   "execution_count": null,
   "id": "d373525b-2654-408f-8726-9427f6680a07",
   "metadata": {
    "scrolled": true
   },
   "outputs": [],
   "source": [
    "#view subset of Leiden clustering onto the mask of the tissue section\n",
    "leiden_clusters = ['1', '2', '3', '4', '5', '6', '7', '8', '9', '10', \n",
    "                   '11', '12', '13', '14', '15', '16', '17', '18', '19', '20', \n",
    "                   '21', '22', '23']\n",
    "\n",
    "#prepare directory and pathing strings for autoexport\n",
    "dir_out = '/home/ryan/Sean/PigP10/crop/Leiden_iso'#path to main output directory\n",
    "#sample = 'PigP10'#sample id for output directory subfolder\n",
    "\n",
    "#generate and export spatial_scatter visualizing each cluster individually\n",
    "for i, cluster in enumerate(leiden_clusters):\n",
    "    path_out = os.path.join(dir_out, cluster)#combine all pathing elements to get iterable file path\n",
    "\n",
    "    #view spatial gene expression across the tissue mask\n",
    "    data.plt.cluster_scatter(res_key='leiden', base_image='/home/ryan/Sean/IMG/PigP10_crop/B03701E2_ssDNA_regist.tif', \n",
    "                             others_color='#FFFFFF', foreground_alpha=1,\n",
    "                             groups=leiden_clusters[i])#view each cluster one at a time\n",
    "    plt.savefig(fname=path_out, dpi=500)\n",
    "    \n",
    "#data.plt.cluster_scatter(res_key='leiden', groups=['1', '2', '3', '4', '5', '6', '7', '8', '9', '10', '11'\n",
    "#                                                  '12', '13', '14', '15', '16', '17', \n",
    "#                                                   '18', '19', '20', '21', '22', '23'], foreground_alpha=1)#exclude cluster 11 (not tissue)\n",
    "#plt.savefig(fname='/home/ryan/Sean/PigP10/crop/8_Spatial_Clustering_focus.png', dpi=500)\n",
    "#data.plt.cluster_scatter(res_key='leiden', groups=['16', '18'], base_image='/home/ryan/Sean/IMG/PigP10_crop/B03701E2_ssDNA_regist.tif',\n",
    "#                        others_color='#FFFFFF', foreground_alpha=1)\n",
    "#plt.savefig(fname='/home/ryan/Sean/PigP10/crop/8_filtered_Spatial_Clustering_focus_Epi_wMask.png', dpi=500)"
   ]
  },
  {
   "cell_type": "code",
   "execution_count": null,
   "id": "417f4675-81bc-4bb8-8748-2f9e36ca5158",
   "metadata": {
    "scrolled": true
   },
   "outputs": [],
   "source": [
    "#view individual DEGs\n",
    "data.plt.spatial_scatter_by_gene(gene_name=['CCL21'], palette='CET_L4', color_bar_reverse=False,\n",
    "                                 out_dpi=500, height=1000, width=1000)\n",
    "plt.savefig(fname='/home/ryan/Sean/PigP10/crop/CCL21.png', dpi=500)\n",
    "data.plt.spatial_scatter_by_gene(gene_name=['DLK2'], palette='CET_L4', color_bar_reverse=False,\n",
    "                                 out_dpi=500, height=1000, width=1000)\n",
    "plt.savefig(fname='/home/ryan/Sean/PigP10/crop/DLK2.png', dpi=500)\n",
    "data.plt.spatial_scatter_by_gene(gene_name=['CXCL14'], palette='CET_L4', color_bar_reverse=False,\n",
    "                                 out_dpi=500, height=1000, width=1000)\n",
    "plt.savefig(fname='/home/ryan/Sean/PigP10/crop/CXCL14.png', dpi=500)\n",
    "data.plt.spatial_scatter_by_gene(gene_name=['TGFBI'], palette='CET_L4', color_bar_reverse=False,\n",
    "                                 out_dpi=500, height=1000, width=1000)\n",
    "plt.savefig(fname='/home/ryan/Sean/PigP10/crop/TGFBI.png', dpi=500)"
   ]
  },
  {
   "cell_type": "code",
   "execution_count": null,
   "id": "28ffabcf-70dd-4940-9dc7-666e83358505",
   "metadata": {},
   "outputs": [],
   "source": [
    "#rename clusters by cell identity\n",
    "annotation_dict = {\n",
    "    '1':'Fibroblast',\n",
    "    '2':'Fibroblast',\n",
    "    '3':'Vasculature',\n",
    "    '4':'Adipocyte',\n",
    "    '5':'Fibroblast',\n",
    "    '6':'Fibroblast',\n",
    "    '7':'HF_ORS',\n",
    "    '8':'Perifollicular_Fibroblast',\n",
    "    '9':'Papillary_Fibroblast',\n",
    "    '10':'Fibroblast',\n",
    "    '11':'Cornified_Envelope',\n",
    "    '12':'HF_IRS',\n",
    "    '13':'HF_Bulb',\n",
    "    '14':'Sweat_Gland',\n",
    "    '15':'Periglandular_Fibroblast',\n",
    "    '16':'Differentiating_Keratinocyte',\n",
    "    '17':'Lymphatic_Vessel',\n",
    "    '18':'Basal_Keratinocyte',\n",
    "    '19':'Fibroblast',\n",
    "    '20':'HF_Cortex',\n",
    "    '21':'Sweat_Gland_Duct',\n",
    "    '22':'HF_Isthmus',\n",
    "    '23':'Fibroblast'\n",
    "}"
   ]
  },
  {
   "cell_type": "code",
   "execution_count": null,
   "id": "8522a0a7-b00b-4c5d-8d61-a43c1f096b47",
   "metadata": {},
   "outputs": [],
   "source": [
    "data.tl.annotation(\n",
    "        annotation_information=annotation_dict,\n",
    "        cluster_res_key='leiden',\n",
    "        res_key='anno_leiden'\n",
    "        )\n",
    "data.plt.cluster_scatter(res_key='anno_leiden')"
   ]
  },
  {
   "cell_type": "code",
   "execution_count": null,
   "id": "20e25a47-5ece-4703-9239-920b62c43b0e",
   "metadata": {},
   "outputs": [],
   "source": [
    "#view spatial gene expression across the tissue mask\n",
    "data.plt.cluster_scatter(res_key='leiden', base_image='/home/ryan/Sean/IMG/PigP10_crop/B03701E2_ssDNA_regist.tif', \n",
    "                         others_color='#FFFFFF', foreground_alpha=1,\n",
    "                         groups=['16', '18'])#view key clusters\n",
    "plt.savefig(fname='/home/ryan/Sean/PigP10/crop/18_Spatial_Clustering_Epi_wMask.png', dpi=500)\n",
    "\n",
    "data.plt.cluster_scatter(res_key='leiden', base_image='/home/ryan/Sean/IMG/PigP10_crop/B03701E2_ssDNA_regist.tif', \n",
    "                         others_color='#FFFFFF', foreground_alpha=1,\n",
    "                         groups=['3', '9',\n",
    "                                 '16', '17',\n",
    "                                 '18'])#view key clusters\n",
    "plt.savefig(fname='/home/ryan/Sean/PigP10/crop/18_Spatial_Clustering_EpiDerm_wMask.png', dpi=500)"
   ]
  },
  {
   "cell_type": "code",
   "execution_count": null,
   "id": "3f4c42a0-dbfa-4222-8e90-508d8052938f",
   "metadata": {},
   "outputs": [],
   "source": [
    "#save the normalized StereoExpData to file\n",
    "st.io.write_h5ad(data, use_raw=True, use_result=True, key_record=None, output='/home/ryan/Sean/Object/StereoSeq/PigP10_bin20_crop_normalized_v2_labeled.stereo.h5ad', split_batches=True)"
   ]
  },
  {
   "cell_type": "code",
   "execution_count": null,
   "id": "2b6279e4-c712-4322-a8df-37ec527ed965",
   "metadata": {},
   "outputs": [],
   "source": [
    "#convert the normalized StereoExpData object to be anndata (for Scanpy)\n",
    "st.io.stereo_to_anndata(data, flavor='scanpy', sample_id='PigP10', output='/home/ryan/Sean/Object/StereoSeq/PigP10_bin20_crop_normalized_v1_labeled.stereo.forScanpy.h5ad')"
   ]
  }
 ],
 "metadata": {
  "kernelspec": {
   "display_name": "Python (stereopy_env)",
   "language": "python",
   "name": "stereopy_env"
  },
  "language_info": {
   "codemirror_mode": {
    "name": "ipython",
    "version": 3
   },
   "file_extension": ".py",
   "mimetype": "text/x-python",
   "name": "python",
   "nbconvert_exporter": "python",
   "pygments_lexer": "ipython3",
   "version": "3.8.20"
  }
 },
 "nbformat": 4,
 "nbformat_minor": 5
}
